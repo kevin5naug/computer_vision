{
 "cells": [
  {
   "cell_type": "markdown",
   "metadata": {},
   "source": [
    "# Softmax exercise\n",
    "\n",
    "*Complete and hand in this completed worksheet (including its outputs and any supporting code outside of the worksheet) with your assignment submission. For more details see the [assignments page](http://vision.stanford.edu/teaching/cs231n/assignments.html) on the course website.*\n",
    "\n",
    "This exercise is analogous to the SVM exercise. You will:\n",
    "\n",
    "- implement a fully-vectorized **loss function** for the Softmax classifier\n",
    "- implement the fully-vectorized expression for its **analytic gradient**\n",
    "- **check your implementation** with numerical gradient\n",
    "- use a validation set to **tune the learning rate and regularization** strength\n",
    "- **optimize** the loss function with **SGD**\n",
    "- **visualize** the final learned weights\n"
   ]
  },
  {
   "cell_type": "code",
   "execution_count": 39,
   "metadata": {
    "collapsed": false
   },
   "outputs": [
    {
     "name": "stdout",
     "output_type": "stream",
     "text": [
      "The autoreload extension is already loaded. To reload it, use:\n",
      "  %reload_ext autoreload\n"
     ]
    }
   ],
   "source": [
    "import random\n",
    "import numpy as np\n",
    "from cs231n.data_utils import load_CIFAR10\n",
    "import matplotlib.pyplot as plt\n",
    "%matplotlib inline\n",
    "plt.rcParams['figure.figsize'] = (10.0, 8.0) # set default size of plots\n",
    "plt.rcParams['image.interpolation'] = 'nearest'\n",
    "plt.rcParams['image.cmap'] = 'gray'\n",
    "\n",
    "# for auto-reloading extenrnal modules\n",
    "# see http://stackoverflow.com/questions/1907993/autoreload-of-modules-in-ipython\n",
    "%load_ext autoreload\n",
    "%autoreload 2"
   ]
  },
  {
   "cell_type": "code",
   "execution_count": 40,
   "metadata": {
    "collapsed": false
   },
   "outputs": [
    {
     "name": "stdout",
     "output_type": "stream",
     "text": [
      "Train data shape:  (49000, 3073)\n",
      "Train labels shape:  (49000,)\n",
      "Validation data shape:  (1000, 3073)\n",
      "Validation labels shape:  (1000,)\n",
      "Test data shape:  (1000, 3073)\n",
      "Test labels shape:  (1000,)\n",
      "dev data shape:  (500, 3073)\n",
      "dev labels shape:  (500,)\n"
     ]
    }
   ],
   "source": [
    "def get_CIFAR10_data(num_training=49000, num_validation=1000, num_test=1000, num_dev=500):\n",
    "  \"\"\"\n",
    "  Load the CIFAR-10 dataset from disk and perform preprocessing to prepare\n",
    "  it for the linear classifier. These are the same steps as we used for the\n",
    "  SVM, but condensed to a single function.  \n",
    "  \"\"\"\n",
    "  # Load the raw CIFAR-10 data\n",
    "  cifar10_dir = 'cs231n/datasets/cifar-10-batches-py'\n",
    "  X_train, y_train, X_test, y_test = load_CIFAR10(cifar10_dir)\n",
    "  \n",
    "  # subsample the data\n",
    "  mask = range(num_training, num_training + num_validation)\n",
    "  X_val = X_train[mask]\n",
    "  y_val = y_train[mask]\n",
    "  mask = range(num_training)\n",
    "  X_train = X_train[mask]\n",
    "  y_train = y_train[mask]\n",
    "  mask = range(num_test)\n",
    "  X_test = X_test[mask]\n",
    "  y_test = y_test[mask]\n",
    "  mask = np.random.choice(num_training, num_dev, replace=False)\n",
    "  X_dev = X_train[mask]\n",
    "  y_dev = y_train[mask]\n",
    "  \n",
    "  # Preprocessing: reshape the image data into rows\n",
    "  X_train = np.reshape(X_train, (X_train.shape[0], -1))\n",
    "  X_val = np.reshape(X_val, (X_val.shape[0], -1))\n",
    "  X_test = np.reshape(X_test, (X_test.shape[0], -1))\n",
    "  X_dev = np.reshape(X_dev, (X_dev.shape[0], -1))\n",
    "  \n",
    "  # Normalize the data: subtract the mean image\n",
    "  mean_image = np.mean(X_train, axis = 0)\n",
    "  X_train -= mean_image\n",
    "  X_val -= mean_image\n",
    "  X_test -= mean_image\n",
    "  X_dev -= mean_image\n",
    "  \n",
    "  # add bias dimension and transform into columns\n",
    "  X_train = np.hstack([X_train, np.ones((X_train.shape[0], 1))])\n",
    "  X_val = np.hstack([X_val, np.ones((X_val.shape[0], 1))])\n",
    "  X_test = np.hstack([X_test, np.ones((X_test.shape[0], 1))])\n",
    "  X_dev = np.hstack([X_dev, np.ones((X_dev.shape[0], 1))])\n",
    "  \n",
    "  return X_train, y_train, X_val, y_val, X_test, y_test, X_dev, y_dev\n",
    "\n",
    "\n",
    "# Invoke the above function to get our data.\n",
    "X_train, y_train, X_val, y_val, X_test, y_test, X_dev, y_dev = get_CIFAR10_data()\n",
    "print 'Train data shape: ', X_train.shape\n",
    "print 'Train labels shape: ', y_train.shape\n",
    "print 'Validation data shape: ', X_val.shape\n",
    "print 'Validation labels shape: ', y_val.shape\n",
    "print 'Test data shape: ', X_test.shape\n",
    "print 'Test labels shape: ', y_test.shape\n",
    "print 'dev data shape: ', X_dev.shape\n",
    "print 'dev labels shape: ', y_dev.shape"
   ]
  },
  {
   "cell_type": "markdown",
   "metadata": {},
   "source": [
    "## Softmax Classifier\n",
    "\n",
    "Your code for this section will all be written inside **cs231n/classifiers/softmax.py**. \n"
   ]
  },
  {
   "cell_type": "code",
   "execution_count": 41,
   "metadata": {
    "collapsed": false
   },
   "outputs": [
    {
     "name": "stdout",
     "output_type": "stream",
     "text": [
      "loss: 2.363548\n",
      "sanity check: 2.302585\n"
     ]
    }
   ],
   "source": [
    "# First implement the naive softmax loss function with nested loops.\n",
    "# Open the file cs231n/classifiers/softmax.py and implement the\n",
    "# softmax_loss_naive function.\n",
    "\n",
    "from cs231n.classifiers.softmax import softmax_loss_naive\n",
    "import time\n",
    "\n",
    "# Generate a random softmax weight matrix and use it to compute the loss.\n",
    "W = np.random.randn(3073, 10) * 0.0001\n",
    "loss, grad = softmax_loss_naive(W, X_dev, y_dev, 0.0)\n",
    "\n",
    "# As a rough sanity check, our loss should be something close to -log(0.1).\n",
    "print 'loss: %f' % loss\n",
    "print 'sanity check: %f' % (-np.log(0.1))"
   ]
  },
  {
   "cell_type": "markdown",
   "metadata": {},
   "source": [
    "## Inline Question 1:\n",
    "Why do we expect our loss to be close to -log(0.1)? Explain briefly.**\n",
    "\n",
    "**Your answer:** *Fill this in*\n"
   ]
  },
  {
   "cell_type": "code",
   "execution_count": 42,
   "metadata": {
    "collapsed": false
   },
   "outputs": [
    {
     "name": "stdout",
     "output_type": "stream",
     "text": [
      "numerical: 0.004276 analytic: 0.004276, relative error: 7.036587e-06\n",
      "numerical: 0.805809 analytic: 0.805809, relative error: 2.142511e-08\n",
      "numerical: 2.570826 analytic: 2.570826, relative error: 2.189013e-08\n",
      "numerical: 1.931009 analytic: 1.931009, relative error: 1.694462e-08\n",
      "numerical: -2.618315 analytic: -2.618315, relative error: 1.809210e-09\n",
      "numerical: -1.591333 analytic: -1.591333, relative error: 6.789178e-08\n",
      "numerical: 0.099419 analytic: 0.099419, relative error: 9.751440e-07\n",
      "numerical: 1.567511 analytic: 1.567511, relative error: 2.444478e-08\n",
      "numerical: 0.693395 analytic: 0.693395, relative error: 1.370163e-08\n",
      "numerical: 5.530803 analytic: 5.530803, relative error: 1.111166e-08\n",
      "numerical: 0.820517 analytic: 0.820517, relative error: 1.931992e-08\n",
      "numerical: 2.136737 analytic: 2.136737, relative error: 2.357642e-08\n",
      "numerical: 2.539611 analytic: 2.539611, relative error: 1.455142e-08\n",
      "numerical: -1.189740 analytic: -1.189740, relative error: 6.560659e-09\n",
      "numerical: -2.310164 analytic: -2.310164, relative error: 8.798723e-09\n",
      "numerical: 0.357415 analytic: 0.357415, relative error: 1.358747e-07\n",
      "numerical: 1.126821 analytic: 1.126821, relative error: 1.324174e-08\n",
      "numerical: -1.844007 analytic: -1.844007, relative error: 2.725035e-08\n",
      "numerical: -0.005530 analytic: -0.005530, relative error: 4.035924e-06\n",
      "numerical: 3.027769 analytic: 3.027769, relative error: 5.475717e-09\n"
     ]
    }
   ],
   "source": [
    "# Complete the implementation of softmax_loss_naive and implement a (naive)\n",
    "# version of the gradient that uses nested loops.\n",
    "loss, grad = softmax_loss_naive(W, X_dev, y_dev, 0.0)\n",
    "\n",
    "# As we did for the SVM, use numeric gradient checking as a debugging tool.\n",
    "# The numeric gradient should be close to the analytic gradient.\n",
    "from cs231n.gradient_check import grad_check_sparse\n",
    "f = lambda w: softmax_loss_naive(w, X_dev, y_dev, 0.0)[0]\n",
    "grad_numerical = grad_check_sparse(f, W, grad, 10)\n",
    "\n",
    "# similar to SVM case, do another gradient check with regularization\n",
    "loss, grad = softmax_loss_naive(W, X_dev, y_dev, 1e2)\n",
    "f = lambda w: softmax_loss_naive(w, X_dev, y_dev, 1e2)[0]\n",
    "grad_numerical = grad_check_sparse(f, W, grad, 10)"
   ]
  },
  {
   "cell_type": "code",
   "execution_count": 43,
   "metadata": {
    "collapsed": false
   },
   "outputs": [
    {
     "name": "stdout",
     "output_type": "stream",
     "text": [
      "naive loss: 2.363548e+00 computed in 0.126403s\n",
      "vectorized loss: 2.363548e+00 computed in 0.003167s\n",
      "Loss difference: 0.000000\n",
      "Gradient difference: 0.000000\n"
     ]
    }
   ],
   "source": [
    "# Now that we have a naive implementation of the softmax loss function and its gradient,\n",
    "# implement a vectorized version in softmax_loss_vectorized.\n",
    "# The two versions should compute the same results, but the vectorized version should be\n",
    "# much faster.\n",
    "tic = time.time()\n",
    "loss_naive, grad_naive = softmax_loss_naive(W, X_dev, y_dev, 0.00001)\n",
    "toc = time.time()\n",
    "print 'naive loss: %e computed in %fs' % (loss_naive, toc - tic)\n",
    "\n",
    "from cs231n.classifiers.softmax import softmax_loss_vectorized\n",
    "tic = time.time()\n",
    "loss_vectorized, grad_vectorized = softmax_loss_vectorized(W, X_dev, y_dev, 0.00001)\n",
    "toc = time.time()\n",
    "print 'vectorized loss: %e computed in %fs' % (loss_vectorized, toc - tic)\n",
    "\n",
    "# As we did for the SVM, we use the Frobenius norm to compare the two versions\n",
    "# of the gradient.\n",
    "grad_difference = np.linalg.norm(grad_naive - grad_vectorized, ord='fro')\n",
    "print 'Loss difference: %f' % np.abs(loss_naive - loss_vectorized)\n",
    "print 'Gradient difference: %f' % grad_difference"
   ]
  },
  {
   "cell_type": "code",
   "execution_count": 44,
   "metadata": {
    "collapsed": false
   },
   "outputs": [
    {
     "name": "stdout",
     "output_type": "stream",
     "text": [
      "iteration 0 / 1500: loss 44.130349\n",
      "iteration 100 / 1500: loss 32.135281\n",
      "iteration 200 / 1500: loss 25.244315\n",
      "iteration 300 / 1500: loss 19.993569\n",
      "iteration 400 / 1500: loss 15.819559\n",
      "iteration 500 / 1500: loss 12.615507\n",
      "iteration 600 / 1500: loss 10.158334\n",
      "iteration 700 / 1500: loss 8.272730\n",
      "iteration 800 / 1500: loss 6.887847\n",
      "iteration 900 / 1500: loss 5.698523\n",
      "iteration 1000 / 1500: loss 4.772480\n",
      "iteration 1100 / 1500: loss 4.213418\n",
      "iteration 1200 / 1500: loss 3.682832\n",
      "iteration 1300 / 1500: loss 3.248790\n",
      "iteration 1400 / 1500: loss 2.928968\n",
      "iteration 0 / 1500: loss 82.454684\n",
      "iteration 100 / 1500: loss 48.705191\n",
      "iteration 200 / 1500: loss 30.004289\n",
      "iteration 300 / 1500: loss 18.787474\n",
      "iteration 400 / 1500: loss 12.006875\n",
      "iteration 500 / 1500: loss 8.073947\n",
      "iteration 600 / 1500: loss 5.544022\n",
      "iteration 700 / 1500: loss 4.077315\n",
      "iteration 800 / 1500: loss 3.264091\n",
      "iteration 900 / 1500: loss 2.724726\n",
      "iteration 1000 / 1500: loss 2.332881\n",
      "iteration 1100 / 1500: loss 2.236674\n",
      "iteration 1200 / 1500: loss 2.105189\n",
      "iteration 1300 / 1500: loss 1.928061\n",
      "iteration 1400 / 1500: loss 1.968005\n",
      "iteration 0 / 1500: loss 388.749494\n",
      "iteration 100 / 1500: loss 32.756710\n",
      "iteration 200 / 1500: loss 4.512909\n",
      "iteration 300 / 1500: loss 2.153057\n",
      "iteration 400 / 1500: loss 2.021960\n",
      "iteration 500 / 1500: loss 1.983867\n",
      "iteration 600 / 1500: loss 1.979408\n",
      "iteration 700 / 1500: loss 2.009554\n",
      "iteration 800 / 1500: loss 2.105623\n",
      "iteration 900 / 1500: loss 2.022383\n",
      "iteration 1000 / 1500: loss 2.068334\n",
      "iteration 1100 / 1500: loss 2.015420\n",
      "iteration 1200 / 1500: loss 2.054273\n",
      "iteration 1300 / 1500: loss 2.032361\n",
      "iteration 1400 / 1500: loss 2.017072\n",
      "iteration 0 / 1500: loss 44.229315\n",
      "iteration 100 / 1500: loss 25.139189\n",
      "iteration 200 / 1500: loss 15.679296\n",
      "iteration 300 / 1500: loss 10.287987\n",
      "iteration 400 / 1500: loss 6.885638\n",
      "iteration 500 / 1500: loss 4.945411\n",
      "iteration 600 / 1500: loss 3.691228\n",
      "iteration 700 / 1500: loss 2.909911\n",
      "iteration 800 / 1500: loss 2.535198\n",
      "iteration 900 / 1500: loss 2.210172\n",
      "iteration 1000 / 1500: loss 2.131247\n",
      "iteration 1100 / 1500: loss 2.035912\n",
      "iteration 1200 / 1500: loss 1.964113\n",
      "iteration 1300 / 1500: loss 1.921784\n",
      "iteration 1400 / 1500: loss 1.821512\n",
      "iteration 0 / 1500: loss 81.820785\n",
      "iteration 100 / 1500: loss 29.639324\n",
      "iteration 200 / 1500: loss 11.909617\n",
      "iteration 300 / 1500: loss 5.464711\n",
      "iteration 400 / 1500: loss 3.142493\n",
      "iteration 500 / 1500: loss 2.340914\n",
      "iteration 600 / 1500: loss 2.134238\n",
      "iteration 700 / 1500: loss 2.007204\n",
      "iteration 800 / 1500: loss 1.834017\n",
      "iteration 900 / 1500: loss 1.922194\n",
      "iteration 1000 / 1500: loss 1.895965\n",
      "iteration 1100 / 1500: loss 1.852163\n",
      "iteration 1200 / 1500: loss 1.894598\n",
      "iteration 1300 / 1500: loss 1.879344\n",
      "iteration 1400 / 1500: loss 1.986545\n",
      "iteration 0 / 1500: loss 392.222408\n",
      "iteration 100 / 1500: loss 4.437302\n",
      "iteration 200 / 1500: loss 2.072682\n",
      "iteration 300 / 1500: loss 2.012584\n",
      "iteration 400 / 1500: loss 2.027498\n",
      "iteration 500 / 1500: loss 2.010007\n",
      "iteration 600 / 1500: loss 2.074633\n",
      "iteration 700 / 1500: loss 2.071623\n",
      "iteration 800 / 1500: loss 2.020885\n",
      "iteration 900 / 1500: loss 2.062737\n",
      "iteration 1000 / 1500: loss 2.115785\n",
      "iteration 1100 / 1500: loss 2.040949\n",
      "iteration 1200 / 1500: loss 2.070031\n",
      "iteration 1300 / 1500: loss 2.006252\n",
      "iteration 1400 / 1500: loss 2.028048\n",
      "lr 5.000000e-07 reg 5.000000e+05 train accuracy: 0.389143 val accuracy: 0.379000\n",
      "lr 5.000000e-07 reg 1.000000e+06 train accuracy: 0.387469 val accuracy: 0.399000\n",
      "lr 5.000000e-07 reg 5.000000e+06 train accuracy: 0.352531 val accuracy: 0.363000\n",
      "lr 1.000000e-06 reg 5.000000e+05 train accuracy: 0.393286 val accuracy: 0.391000\n",
      "lr 1.000000e-06 reg 1.000000e+06 train accuracy: 0.384306 val accuracy: 0.381000\n",
      "lr 1.000000e-06 reg 5.000000e+06 train accuracy: 0.341653 val accuracy: 0.354000\n",
      "best validation accuracy achieved during cross-validation: 0.399000\n"
     ]
    }
   ],
   "source": [
    "# Use the validation set to tune hyperparameters (regularization strength and\n",
    "# learning rate). You should experiment with different ranges for the learning\n",
    "# rates and regularization strengths; if you are careful you should be able to\n",
    "# get a classification accuracy of over 0.35 on the validation set.\n",
    "from cs231n.classifiers import Softmax\n",
    "results = {}\n",
    "best_val = -1\n",
    "best_softmax = None\n",
    "learning_rates = [5e-7, 1e-6]\n",
    "regularization_strengths = [ 5e5, 1e6, 5e6]\n",
    "\n",
    "################################################################################\n",
    "# TODO:                                                                        #\n",
    "# Use the validation set to set the learning rate and regularization strength. #\n",
    "# This should be identical to the validation that you did for the SVM; save    #\n",
    "# the best trained softmax classifer in best_softmax.                          #\n",
    "################################################################################\n",
    "for learning_rate in learning_rates:\n",
    "    for reg in regularization_strengths:\n",
    "        svm = Softmax()\n",
    "        svm.train(X_train, y_train, learning_rate, reg,\n",
    "                      num_iters=1500, verbose=True)\n",
    "        y_train_pred = svm.predict(X_train)\n",
    "        y_val_pred = svm.predict(X_val)\n",
    "        accuracy_train=np.mean(y_train == y_train_pred)\n",
    "        accuracy_val=np.mean(y_val == y_val_pred)\n",
    "        results[(learning_rate,reg)]=(accuracy_train, accuracy_val)\n",
    "        if accuracy_val>best_val:\n",
    "            best_softmax=svm\n",
    "            best_val=accuracy_val\n",
    "################################################################################\n",
    "#                              END OF YOUR CODE                                #\n",
    "################################################################################\n",
    "    \n",
    "# Print out results.\n",
    "for lr, reg in sorted(results):\n",
    "    train_accuracy, val_accuracy = results[(lr, reg)]\n",
    "    print 'lr %e reg %e train accuracy: %f val accuracy: %f' % (\n",
    "                lr, reg, train_accuracy, val_accuracy)\n",
    "    \n",
    "print 'best validation accuracy achieved during cross-validation: %f' % best_val"
   ]
  },
  {
   "cell_type": "code",
   "execution_count": 45,
   "metadata": {
    "collapsed": false
   },
   "outputs": [
    {
     "name": "stdout",
     "output_type": "stream",
     "text": [
      "softmax on raw pixels final test set accuracy: 0.378000\n"
     ]
    }
   ],
   "source": [
    "# evaluate on test set\n",
    "# Evaluate the best softmax on test set\n",
    "y_test_pred = best_softmax.predict(X_test)\n",
    "test_accuracy = np.mean(y_test == y_test_pred)\n",
    "print 'softmax on raw pixels final test set accuracy: %f' % (test_accuracy, )"
   ]
  },
  {
   "cell_type": "code",
   "execution_count": 46,
   "metadata": {
    "collapsed": false
   },
   "outputs": [
    {
     "data": {
      "image/png": "[encoded data removed]",
      "text/plain": [
       "<matplotlib.figure.Figure at 0x1261b77d0>"
      ]
     },
     "metadata": {},
     "output_type": "display_data"
    }
   ],
   "source": [
    "# Visualize the learned weights for each class\n",
    "w = best_softmax.W[:-1,:] # strip out the bias\n",
    "w = w.reshape(32, 32, 3, 10)\n",
    "\n",
    "w_min, w_max = np.min(w), np.max(w)\n",
    "\n",
    "classes = ['plane', 'car', 'bird', 'cat', 'deer', 'dog', 'frog', 'horse', 'ship', 'truck']\n",
    "for i in xrange(10):\n",
    "  plt.subplot(2, 5, i + 1)\n",
    "  \n",
    "  # Rescale the weights to be between 0 and 255\n",
    "  wimg = 255.0 * (w[:, :, :, i].squeeze() - w_min) / (w_max - w_min)\n",
    "  plt.imshow(wimg.astype('uint8'))\n",
    "  plt.axis('off')\n",
    "  plt.title(classes[i])"
   ]
  },
  {
   "cell_type": "code",
   "execution_count": null,
   "metadata": {
    "collapsed": true
   },
   "outputs": [],
   "source": []
  }
 ],
 "metadata": {
  "kernelspec": {
   "display_name": "Python [conda env:anaconda]",
   "language": "python",
   "name": "conda-env-anaconda-py"
  },
  "language_info": {
   "codemirror_mode": {
    "name": "ipython",
    "version": 3
   },
   "file_extension": ".py",
   "mimetype": "text/x-python",
   "name": "python",
   "nbconvert_exporter": "python",
   "pygments_lexer": "ipython3",
   "version": "3.5.2"
  }
 },
 "nbformat": 4,
 "nbformat_minor": 0
}
